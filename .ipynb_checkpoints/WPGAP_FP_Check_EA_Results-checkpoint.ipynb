{
 "cells": [
  {
   "cell_type": "code",
   "execution_count": null,
   "metadata": {},
   "outputs": [],
   "source": [
    "# from deap import base, creator, tools, algorithms\n",
    "from dedalus import public as de\n",
    "from dedalus.extras.plot_tools import plot_bot_2d\n",
    "from dedalus.extras import *\n",
    "import numpy as np\n",
    "import scipy\n",
    "from scipy import integrate\n",
    "import pickle\n",
    "from math import sqrt\n",
    "import matplotlib.pyplot as plt\n",
    "import pandas as pd\n",
    "import seaborn as sns\n",
    "\n",
    "import time as timeski\n",
    "import os\n",
    "\n",
    "#Suppress most Dedalus output\n",
    "de.logging_setup.rootlogger.setLevel('ERROR')\n",
    "\n",
    "from matplotlib import rcParams\n",
    "rcParams['pdf.fonttype'] = 42\n",
    "rcParams['ps.fonttype'] = 42\n",
    "rcParams['font.family'] = 'arial'\n",
    "# rcParams['font.sans-serif'] = ['Tahoma']\n",
    "rcParams.update({'font.size': 16})"
   ]
  },
  {
   "cell_type": "code",
   "execution_count": null,
   "metadata": {},
   "outputs": [],
   "source": [
    "#Read in evolutionary algorithm runs\n",
    "file_name = '012522_LogisticDecay_Act_Seeded_DG100'\n",
    "\n",
    "folder = 'PickleFiles/'\n",
    "file_loc = folder + file_name\n",
    "\n",
    "\n",
    "path, dirs, files = os.walk(file_loc).__next__()\n",
    "len_files = len(files)-1\n",
    "\n",
    "runs_df = pd.DataFrame(index = range(len_files), columns=['Score','c_p','c_m','gamma_p','gamma_m','e','d'])\n",
    "\n",
    "minim = 1\n",
    "minim_i = 0\n",
    "\n",
    "best_scores = []\n",
    "best_inds = []\n",
    "plt.figure(figsize=(5,3))\n",
    "# plt.figure(figsize=(3,2))\n",
    "# plt.rcParams.update({'font.size': 12})\n",
    "for i in range(len_files):\n",
    "    if i <10:\n",
    "        logbook1 = pickle.load( open( \"{}/{}_000{}.pickled\".format(file_loc,file_name,i), \"rb\" ) )\n",
    "    elif i <100:\n",
    "        logbook1 = pickle.load( open( \"{}/{}_00{}.pickled\".format(file_loc,file_name,i), \"rb\" ) )\n",
    "    else:\n",
    "        logbook1 = pickle.load( open( \"{}/{}_0{}.pickled\".format(file_loc,file_name,i), \"rb\" ) )\n",
    "\n",
    "    runs_df.iloc[i] = np.insert(logbook1[1][-1],0,logbook1[0][-1])\n",
    "    \n",
    "    if logbook1[0][-1] < minim:\n",
    "        minim = logbook1[0][-1]\n",
    "        minim_i = i\n",
    "        \n",
    "    best_scores.append(logbook1[0][-1])\n",
    "    best_inds.append(logbook1[1][-1])\n",
    "  \n",
    "    run = np.array(logbook1[0])\n",
    "    score = logbook1[0][-1]\n",
    "    if score == 0.01925945932722266:\n",
    "         plt.plot(run,color='red',alpha=1,lw=2,zorder=10)\n",
    "    elif score <0.12: # Mean+STD\n",
    "        plt.plot(run,color='purple',alpha=.5)\n",
    "        \n",
    "    else:\n",
    "        plt.plot(run,color='gray',alpha=0.1)\n",
    "\n",
    "plt.xlabel('EA Generations')\n",
    "plt.ylabel('Score')\n",
    "plt.rcParams.update({'font.size': 16})\n",
    "\n",
    "best_scores = np.array(best_scores)\n",
    "\n",
    "# plt.savefig('EAFigures/EAResults.png',bbox_inches='tight',dpi=300)\n",
    "# plt.savefig('EAFigures/EAResults.pdf',bbox_inches='tight',dpi=300)\n",
    "\n"
   ]
  },
  {
   "cell_type": "code",
   "execution_count": null,
   "metadata": {},
   "outputs": [],
   "source": [
    "good_df = runs_df[runs_df['Score'] < 0.12].sort_values('Score')"
   ]
  },
  {
   "cell_type": "code",
   "execution_count": null,
   "metadata": {},
   "outputs": [],
   "source": [
    "good_df"
   ]
  },
  {
   "cell_type": "code",
   "execution_count": null,
   "metadata": {},
   "outputs": [],
   "source": [
    "#if using a scaling factor (for visualization)\n",
    "scale_f = 200\n",
    "good_df[\"c_p\"] = good_df[\"c_p\"]/scale_f\n",
    "\n",
    "best = good_df.iloc[0][1:]\n",
    "\n",
    "plt.figure(figsize = (8,4))\n",
    "curr_df = good_df.drop(columns=['Score'])\n",
    "sns.boxplot(data=curr_df)\n",
    "sns.stripplot(data=curr_df,color='k')\n",
    "\n",
    "plt.xticks(rotation=60)\n",
    "plt.ylabel('Value')\n",
    "plt.xlabel('')\n",
    "plt.yscale('log')\n",
    "\n",
    "plt.scatter(np.arange(0,6),best,c='r',marker='x',zorder=10)\n",
    "\n",
    "plt.xticks(np.arange(0,6),[r'$c_{max}$',r'$c_{k_m}$',r'$\\gamma_{max}$',r'$\\gamma_{k_m}$',r'$e$',r'$d$'])\n",
    "\n",
    "# plt.savefig('EAFigures/EAParams.png',bbox_inches='tight',dpi=300)\n",
    "# plt.savefig('EAFigures/EAParams.pdf',bbox_inches='tight',dpi=300)\n",
    "\n",
    "plt.show()"
   ]
  },
  {
   "cell_type": "code",
   "execution_count": null,
   "metadata": {},
   "outputs": [],
   "source": []
  }
 ],
 "metadata": {
  "kernelspec": {
   "display_name": "dedalus",
   "language": "python",
   "name": "dedalus"
  },
  "language_info": {
   "codemirror_mode": {
    "name": "ipython",
    "version": 3
   },
   "file_extension": ".py",
   "mimetype": "text/x-python",
   "name": "python",
   "nbconvert_exporter": "python",
   "pygments_lexer": "ipython3",
   "version": "3.7.11"
  }
 },
 "nbformat": 4,
 "nbformat_minor": 2
}
